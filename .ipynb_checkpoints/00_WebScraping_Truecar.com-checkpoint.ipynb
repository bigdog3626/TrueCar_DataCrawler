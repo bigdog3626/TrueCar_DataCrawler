{
 "cells": [
  {
   "cell_type": "code",
   "execution_count": 1,
   "id": "886d6f53-b14b-46be-9548-72a717b96e75",
   "metadata": {
    "tags": []
   },
   "outputs": [],
   "source": [
    "import requests\n",
    "from bs4 import BeautifulSoup\n",
    "import pprint\n",
    "import pandas as pd"
   ]
  },
  {
   "cell_type": "code",
   "execution_count": 2,
   "id": "03f4a99a-1606-4f80-8c6c-5ea15f83a659",
   "metadata": {
    "tags": []
   },
   "outputs": [],
   "source": [
    "def get_page_count(url):\n",
    "    res = requests.get(url)\n",
    "    soup = BeautifulSoup(res.content, \"html.parser\")\n",
    "    return soup.find(\"ul\",{\"data-test\":\"searchResultsPagination\"}).get_text().split()[-1]"
   ]
  },
  {
   "cell_type": "code",
   "execution_count": 3,
   "id": "87dc263c-8da7-41a0-b78d-9dd9c523ef0b",
   "metadata": {
    "tags": []
   },
   "outputs": [],
   "source": [
    "def get_single_element(listing, el_type, data_test):\n",
    "    return listing.find(el_type, {\"data-test\":data_test}).get_text().strip()"
   ]
  },
  {
   "cell_type": "code",
   "execution_count": 4,
   "id": "00022c3c-99f6-47a2-b17f-1b9dca57e428",
   "metadata": {
    "tags": []
   },
   "outputs": [],
   "source": [
    "def parse_json(url):\n",
    "    with requests.get(url) as res:\n",
    "        if res.status_code == 200:\n",
    "            info = []\n",
    "\n",
    "            soup = BeautifulSoup(res.content, \"html.parser\")\n",
    "            list_rows = soup.find_all(\"div\", { \"class\": \"linkable card card-shadow vehicle-card\" })\n",
    "            for row in list_rows:\n",
    "                listing = row.find(\"div\", {\"class\":\"card-content order-3 vehicle-card-body\",\n",
    "                                                           \"data-test\":\"cardContent\" \n",
    "                          })\n",
    "                \n",
    "                car = dict()\n",
    "                year_make_model = [i.get_text() for i in listing.find(\"div\",{\"data-test\": \"vehicleCardYearMakeModel\"\n",
    "                           }).find_all(\"span\")]\n",
    "                \n",
    "                if 'Sponsored' in year_make_model:\n",
    "                    year_make_model.remove('Sponsored')\n",
    "                make_model_list = year_make_model[1].split()\n",
    "                \n",
    "              \n",
    "                car['year'] = year_make_model[0]\n",
    "                car['make'] = make_model_list[0]\n",
    "                car['model'] = make_model_list[1]\n",
    "                car[\"trim\"] =  get_single_element(listing,\"div\", \"vehicleCardTrim\")\n",
    "                print(get_single_element(listing,\"div\", \"vehicleCardTrim\"))\n",
    "                \n",
    "                \n",
    "                price = get_single_element(listing,\"div\", \"vehicleCardPricingBlockPrice\")\n",
    "                \n",
    "                \n",
    "                \n",
    "                car[\"price\"] = int(get_single_element(listing,\"div\", \"vehicleCardPricingBlockPrice\").replace(\"$\",\"\").replace(\",\",\"\"))\n",
    "                car[\"mileage\"] = int(get_single_element(listing,\"div\",\"vehicleMileage\").split()[0].replace(\",\",\"\"))\n",
    "\n",
    "\n",
    "                dist_location = [i.strip() for i in get_single_element(listing,\"div\", \"vehicleCardLocation\").split(\"-\")]\n",
    "                \n",
    "                dist = dist_location[0].split()[0]\n",
    "                if \",\" in dist:\n",
    "                    dist = dist.replace(\",\",\"\")\n",
    "                car[\"distance\"] = int(dist)\n",
    "                car[\"location\"] = dist_location[1]\n",
    "\n",
    "                colors = {v.split()[1]: v.split()[0] for v in get_single_element(listing,\"div\", \"vehicleCardColors\").split(\",\")}\n",
    "                car['interior_color'] = colors['interior']\n",
    "                car['exterior_color'] = colors['exterior']\n",
    "\n",
    "\n",
    "                condition = get_single_element(listing,\"div\", \"vehicleCardCondition\").split(\",\")\n",
    "\n",
    "                if \"No\" not in condition[0]:\n",
    "                    car['num_accidents'] = condition[0].split()[0]\n",
    "                else:\n",
    "                    car['num_accidents'] = 0\n",
    "\n",
    "                car['num_owners'] = condition[1].strip().split()[0]\n",
    "                car['usage'] = condition[2].strip()\n",
    "                \n",
    "\n",
    "                info.append(car)\n",
    "    return info"
   ]
  },
  {
   "cell_type": "code",
   "execution_count": 5,
   "id": "a26303ad-81c3-4cd6-b6fd-3661b6795fcd",
   "metadata": {
    "tags": []
   },
   "outputs": [],
   "source": [
    "url=\"https://www.truecar.com/used-cars-for-sale/listings/bmw/m5/year-2019-max/location-athens-ga/?rentalHistory=false&searchRadius=5000&sort[]=price_asc&titleHistory[]=hide-lemon&titleHistory[]=hide-frame-damage&titleHistory[]=hide-theft-recovery&titleHistory[]=hide-salvage\""
   ]
  },
  {
   "cell_type": "code",
   "execution_count": 6,
   "id": "6a4b318b-c223-4aef-9500-3a05650cead9",
   "metadata": {
    "tags": []
   },
   "outputs": [
    {
     "name": "stdout",
     "output_type": "stream",
     "text": [
      "['https://www.truecar.com/used-cars-for-sale/listings/bmw/m5/year-2019-max/location-athens-ga/?page=1rentalHistory=false&searchRadius=5000&sort[]=price_asc&titleHistory[]=hide-lemon&titleHistory[]=hide-frame-damage&titleHistory[]=hide-theft-recovery&titleHistory[]=hide-salvage',\n",
      " 'https://www.truecar.com/used-cars-for-sale/listings/bmw/m5/year-2019-max/location-athens-ga/?page=2rentalHistory=false&searchRadius=5000&sort[]=price_asc&titleHistory[]=hide-lemon&titleHistory[]=hide-frame-damage&titleHistory[]=hide-theft-recovery&titleHistory[]=hide-salvage',\n",
      " 'https://www.truecar.com/used-cars-for-sale/listings/bmw/m5/year-2019-max/location-athens-ga/?page=3rentalHistory=false&searchRadius=5000&sort[]=price_asc&titleHistory[]=hide-lemon&titleHistory[]=hide-frame-damage&titleHistory[]=hide-theft-recovery&titleHistory[]=hide-salvage',\n",
      " 'https://www.truecar.com/used-cars-for-sale/listings/bmw/m5/year-2019-max/location-athens-ga/?page=4rentalHistory=false&searchRadius=5000&sort[]=price_asc&titleHistory[]=hide-lemon&titleHistory[]=hide-frame-damage&titleHistory[]=hide-theft-recovery&titleHistory[]=hide-salvage',\n",
      " 'https://www.truecar.com/used-cars-for-sale/listings/bmw/m5/year-2019-max/location-athens-ga/?page=5rentalHistory=false&searchRadius=5000&sort[]=price_asc&titleHistory[]=hide-lemon&titleHistory[]=hide-frame-damage&titleHistory[]=hide-theft-recovery&titleHistory[]=hide-salvage']\n"
     ]
    }
   ],
   "source": [
    "max_pages = int(get_page_count(url))\n",
    "urls = []\n",
    "for i in range(1,max_pages+1):\n",
    "    temp = url.split(\"?\")\n",
    "    urls.append(temp[0]+\"?page=\"+str(i)+temp[1])\n",
    "pprint.pprint(urls)"
   ]
  },
  {
   "cell_type": "code",
   "execution_count": 7,
   "id": "f7b102a4-e397-44f3-b015-fcd1988faca2",
   "metadata": {
    "tags": []
   },
   "outputs": [],
   "source": [
    "pages = []\n",
    "for i in urls:\n",
    "    pages.append(parse_json(i))"
   ]
  },
  {
   "cell_type": "code",
   "execution_count": 8,
   "id": "ba44f484-4226-42c9-926e-4443bc0bedbc",
   "metadata": {
    "tags": []
   },
   "outputs": [
    {
     "data": {
      "text/html": [
       "<div>\n",
       "<style scoped>\n",
       "    .dataframe tbody tr th:only-of-type {\n",
       "        vertical-align: middle;\n",
       "    }\n",
       "\n",
       "    .dataframe tbody tr th {\n",
       "        vertical-align: top;\n",
       "    }\n",
       "\n",
       "    .dataframe thead th {\n",
       "        text-align: right;\n",
       "    }\n",
       "</style>\n",
       "<table border=\"1\" class=\"dataframe\">\n",
       "  <thead>\n",
       "    <tr style=\"text-align: right;\">\n",
       "      <th></th>\n",
       "      <th>year</th>\n",
       "      <th>make</th>\n",
       "      <th>model</th>\n",
       "      <th>trim</th>\n",
       "      <th>price</th>\n",
       "      <th>mileage</th>\n",
       "      <th>distance</th>\n",
       "      <th>location</th>\n",
       "      <th>interior_color</th>\n",
       "      <th>exterior_color</th>\n",
       "      <th>num_accidents</th>\n",
       "      <th>num_owners</th>\n",
       "      <th>usage</th>\n",
       "    </tr>\n",
       "  </thead>\n",
       "  <tbody>\n",
       "    <tr>\n",
       "      <th>0</th>\n",
       "      <td>2019</td>\n",
       "      <td>BMW</td>\n",
       "      <td>M5</td>\n",
       "      <td>Sedan</td>\n",
       "      <td>63995</td>\n",
       "      <td>41551</td>\n",
       "      <td>710</td>\n",
       "      <td>Westbury, NY</td>\n",
       "      <td>Brown</td>\n",
       "      <td>White</td>\n",
       "      <td>0</td>\n",
       "      <td>2</td>\n",
       "      <td>Personal use</td>\n",
       "    </tr>\n",
       "    <tr>\n",
       "      <th>1</th>\n",
       "      <td>2019</td>\n",
       "      <td>BMW</td>\n",
       "      <td>M5</td>\n",
       "      <td>Sedan</td>\n",
       "      <td>76498</td>\n",
       "      <td>39328</td>\n",
       "      <td>541</td>\n",
       "      <td>West Palm Beach, FL</td>\n",
       "      <td>Black</td>\n",
       "      <td>White</td>\n",
       "      <td>0</td>\n",
       "      <td>1</td>\n",
       "      <td>Personal use</td>\n",
       "    </tr>\n",
       "    <tr>\n",
       "      <th>2</th>\n",
       "      <td>2019</td>\n",
       "      <td>BMW</td>\n",
       "      <td>M5</td>\n",
       "      <td>Sedan</td>\n",
       "      <td>78998</td>\n",
       "      <td>23870</td>\n",
       "      <td>816</td>\n",
       "      <td>Wichita, KS</td>\n",
       "      <td>Black</td>\n",
       "      <td>Gray</td>\n",
       "      <td>0</td>\n",
       "      <td>1</td>\n",
       "      <td>Personal use</td>\n",
       "    </tr>\n",
       "    <tr>\n",
       "      <th>3</th>\n",
       "      <td>2019</td>\n",
       "      <td>BMW</td>\n",
       "      <td>M5</td>\n",
       "      <td>Sedan</td>\n",
       "      <td>58999</td>\n",
       "      <td>72390</td>\n",
       "      <td>2105</td>\n",
       "      <td>Turlock, CA</td>\n",
       "      <td>Black</td>\n",
       "      <td>White</td>\n",
       "      <td>0</td>\n",
       "      <td>2</td>\n",
       "      <td>Personal use</td>\n",
       "    </tr>\n",
       "    <tr>\n",
       "      <th>4</th>\n",
       "      <td>2019</td>\n",
       "      <td>BMW</td>\n",
       "      <td>M5</td>\n",
       "      <td>Competition</td>\n",
       "      <td>61490</td>\n",
       "      <td>66256</td>\n",
       "      <td>67</td>\n",
       "      <td>Marietta, GA</td>\n",
       "      <td>Black</td>\n",
       "      <td>Gray</td>\n",
       "      <td>1</td>\n",
       "      <td>1</td>\n",
       "      <td>Personal use</td>\n",
       "    </tr>\n",
       "  </tbody>\n",
       "</table>\n",
       "</div>"
      ],
      "text/plain": [
       "   year make model         trim  price  mileage  distance  \\\n",
       "0  2019  BMW    M5        Sedan  63995    41551       710   \n",
       "1  2019  BMW    M5        Sedan  76498    39328       541   \n",
       "2  2019  BMW    M5        Sedan  78998    23870       816   \n",
       "3  2019  BMW    M5        Sedan  58999    72390      2105   \n",
       "4  2019  BMW    M5  Competition  61490    66256        67   \n",
       "\n",
       "              location interior_color exterior_color num_accidents num_owners  \\\n",
       "0         Westbury, NY          Brown          White             0          2   \n",
       "1  West Palm Beach, FL          Black          White             0          1   \n",
       "2          Wichita, KS          Black           Gray             0          1   \n",
       "3          Turlock, CA          Black          White             0          2   \n",
       "4         Marietta, GA          Black           Gray             1          1   \n",
       "\n",
       "          usage  \n",
       "0  Personal use  \n",
       "1  Personal use  \n",
       "2  Personal use  \n",
       "3  Personal use  \n",
       "4  Personal use  "
      ]
     },
     "execution_count": 8,
     "metadata": {},
     "output_type": "execute_result"
    }
   ],
   "source": [
    "df = pd.DataFrame([cars for page in pages for cars in page])\n",
    "df.head()"
   ]
  },
  {
   "cell_type": "code",
   "execution_count": 10,
   "id": "40925c7b-1196-4954-a581-73ecc647aa9a",
   "metadata": {
    "tags": []
   },
   "outputs": [
    {
     "data": {
      "text/plain": [
       "year              object\n",
       "make              object\n",
       "model             object\n",
       "trim              object\n",
       "price              int64\n",
       "mileage            int64\n",
       "distance           int64\n",
       "location          object\n",
       "interior_color    object\n",
       "exterior_color    object\n",
       "num_accidents     object\n",
       "num_owners        object\n",
       "usage             object\n",
       "dtype: object"
      ]
     },
     "execution_count": 10,
     "metadata": {},
     "output_type": "execute_result"
    }
   ],
   "source": [
    "df.dtypes"
   ]
  },
  {
   "cell_type": "code",
   "execution_count": 11,
   "id": "2eba1581-c017-4d27-9ff5-d845031f06a0",
   "metadata": {
    "tags": []
   },
   "outputs": [],
   "source": [
    "df.num_accidents = df.num_accidents.astype('int64')\n",
    "df.num_owners = df.num_owners.astype('int64')"
   ]
  },
  {
   "cell_type": "code",
   "execution_count": 12,
   "id": "cca049b3-bfd3-4b07-876f-182a2d586c13",
   "metadata": {
    "tags": []
   },
   "outputs": [
    {
     "data": {
      "text/plain": [
       "year              object\n",
       "make              object\n",
       "model             object\n",
       "trim              object\n",
       "price              int64\n",
       "mileage            int64\n",
       "distance           int64\n",
       "location          object\n",
       "interior_color    object\n",
       "exterior_color    object\n",
       "num_accidents      int64\n",
       "num_owners         int64\n",
       "usage             object\n",
       "dtype: object"
      ]
     },
     "execution_count": 12,
     "metadata": {},
     "output_type": "execute_result"
    }
   ],
   "source": [
    "df.dtypes"
   ]
  },
  {
   "cell_type": "code",
   "execution_count": 13,
   "id": "d8b9cf57-6374-4162-975f-c1bcdd19d4ab",
   "metadata": {
    "tags": []
   },
   "outputs": [
    {
     "data": {
      "text/plain": [
       "Sedan          105\n",
       "Competition     60\n",
       "Name: trim, dtype: int64"
      ]
     },
     "execution_count": 13,
     "metadata": {},
     "output_type": "execute_result"
    }
   ],
   "source": [
    "df.trim.value_counts()"
   ]
  },
  {
   "cell_type": "code",
   "execution_count": null,
   "id": "03caa6c5-ad19-4612-a1d8-c88f22fa34c6",
   "metadata": {},
   "outputs": [],
   "source": []
  }
 ],
 "metadata": {
  "kernelspec": {
   "display_name": "car_venv",
   "language": "python",
   "name": "car_venv"
  },
  "language_info": {
   "codemirror_mode": {
    "name": "ipython",
    "version": 3
   },
   "file_extension": ".py",
   "mimetype": "text/x-python",
   "name": "python",
   "nbconvert_exporter": "python",
   "pygments_lexer": "ipython3",
   "version": "3.10.6"
  }
 },
 "nbformat": 4,
 "nbformat_minor": 5
}
